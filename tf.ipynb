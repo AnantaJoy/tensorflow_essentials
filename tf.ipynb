{
  "cells": [
    {
      "cell_type": "markdown",
      "metadata": {
        "id": "view-in-github",
        "colab_type": "text"
      },
      "source": [
        "<a href=\"https://colab.research.google.com/github/AnantaJoy/tensorflow_essentials/blob/main/tf.ipynb\" target=\"_parent\"><img src=\"https://colab.research.google.com/assets/colab-badge.svg\" alt=\"Open In Colab\"/></a>"
      ]
    },
    {
      "cell_type": "code",
      "execution_count": 2,
      "metadata": {
        "id": "Xy9lw0hYacJP"
      },
      "outputs": [],
      "source": [
        "import tensorflow as tf"
      ]
    },
    {
      "cell_type": "code",
      "source": [
        "mat1 = tf.constant([[1.,2.]])\n",
        "type(mat1)"
      ],
      "metadata": {
        "id": "pRZYKjvua-fd",
        "outputId": "907c09df-9927-493b-d798-2cf551763e5c",
        "colab": {
          "base_uri": "https://localhost:8080/"
        }
      },
      "execution_count": 4,
      "outputs": [
        {
          "output_type": "execute_result",
          "data": {
            "text/plain": [
              "tensorflow.python.framework.ops.EagerTensor"
            ]
          },
          "metadata": {},
          "execution_count": 4
        }
      ]
    },
    {
      "cell_type": "code",
      "source": [
        "print(mat1)"
      ],
      "metadata": {
        "id": "kAoMuC2lbLLA",
        "outputId": "359a8216-d763-474d-b00c-0d7abd793730",
        "colab": {
          "base_uri": "https://localhost:8080/"
        }
      },
      "execution_count": 5,
      "outputs": [
        {
          "output_type": "stream",
          "name": "stdout",
          "text": [
            "tf.Tensor([[1. 2.]], shape=(1, 2), dtype=float32)\n"
          ]
        }
      ]
    },
    {
      "cell_type": "code",
      "source": [
        "mat2 = tf.constant([[2],\n",
        "                   [6]])\n",
        "type(mat2)"
      ],
      "metadata": {
        "id": "nT_LM5vWbWwP",
        "outputId": "673bff34-36aa-4ee4-c08b-6de3c6eba663",
        "colab": {
          "base_uri": "https://localhost:8080/"
        }
      },
      "execution_count": 7,
      "outputs": [
        {
          "output_type": "execute_result",
          "data": {
            "text/plain": [
              "tensorflow.python.framework.ops.EagerTensor"
            ]
          },
          "metadata": {},
          "execution_count": 7
        }
      ]
    },
    {
      "cell_type": "code",
      "source": [
        "print(mat2)"
      ],
      "metadata": {
        "id": "oHmwofwobeWu",
        "outputId": "07b655a4-3032-4b59-f960-c052a66dce0b",
        "colab": {
          "base_uri": "https://localhost:8080/"
        }
      },
      "execution_count": 8,
      "outputs": [
        {
          "output_type": "stream",
          "name": "stdout",
          "text": [
            "tf.Tensor(\n",
            "[[2]\n",
            " [6]], shape=(2, 1), dtype=int32)\n"
          ]
        }
      ]
    },
    {
      "cell_type": "code",
      "source": [
        "mat3 = tf.constant([ [[2,5],\n",
        "                     [2,6]],\n",
        "                    [[5,7],\n",
        "                     [5,8]] ])"
      ],
      "metadata": {
        "id": "xLcFJVcMeY-k"
      },
      "execution_count": 9,
      "outputs": []
    },
    {
      "cell_type": "code",
      "source": [
        "print(mat3)"
      ],
      "metadata": {
        "id": "PzZy7VVnevVZ",
        "outputId": "83edfa2c-cc49-43b4-dd4b-78458fd2860b",
        "colab": {
          "base_uri": "https://localhost:8080/"
        }
      },
      "execution_count": 10,
      "outputs": [
        {
          "output_type": "stream",
          "name": "stdout",
          "text": [
            "tf.Tensor(\n",
            "[[[2 5]\n",
            "  [2 6]]\n",
            "\n",
            " [[5 7]\n",
            "  [5 8]]], shape=(2, 2, 2), dtype=int32)\n"
          ]
        }
      ]
    },
    {
      "cell_type": "code",
      "source": [
        "zeros = tf.zeros([2,2])\n",
        "print(zeros)"
      ],
      "metadata": {
        "id": "ZRTrCgyQfE5s",
        "outputId": "90958c44-6cde-4ee6-b827-de73b2dac948",
        "colab": {
          "base_uri": "https://localhost:8080/"
        }
      },
      "execution_count": 19,
      "outputs": [
        {
          "output_type": "stream",
          "name": "stdout",
          "text": [
            "tf.Tensor(\n",
            "[[0. 0.]\n",
            " [0. 0.]], shape=(2, 2), dtype=float32)\n"
          ]
        }
      ]
    },
    {
      "cell_type": "code",
      "source": [
        "ones = tf.ones([100,100])*0.5\n",
        "ones"
      ],
      "metadata": {
        "id": "WEeJZhkWfJXc",
        "outputId": "26c4c2d6-3193-49e3-9d07-4e8de618fad3",
        "colab": {
          "base_uri": "https://localhost:8080/"
        }
      },
      "execution_count": 21,
      "outputs": [
        {
          "output_type": "execute_result",
          "data": {
            "text/plain": [
              "<tf.Tensor: shape=(100, 100), dtype=float32, numpy=\n",
              "array([[0.5, 0.5, 0.5, ..., 0.5, 0.5, 0.5],\n",
              "       [0.5, 0.5, 0.5, ..., 0.5, 0.5, 0.5],\n",
              "       [0.5, 0.5, 0.5, ..., 0.5, 0.5, 0.5],\n",
              "       ...,\n",
              "       [0.5, 0.5, 0.5, ..., 0.5, 0.5, 0.5],\n",
              "       [0.5, 0.5, 0.5, ..., 0.5, 0.5, 0.5],\n",
              "       [0.5, 0.5, 0.5, ..., 0.5, 0.5, 0.5]], dtype=float32)>"
            ]
          },
          "metadata": {},
          "execution_count": 21
        }
      ]
    },
    {
      "cell_type": "code",
      "source": [
        "mat_x = tf.constant([[2,4]])\n",
        "negOf_mat_x = tf.negative(mat_x)\n",
        "print(negOf_mat_x)"
      ],
      "metadata": {
        "id": "ZPyHNdNCgHam",
        "outputId": "b875c994-4a0e-49ee-c194-426d629c6095",
        "colab": {
          "base_uri": "https://localhost:8080/"
        }
      },
      "execution_count": 23,
      "outputs": [
        {
          "output_type": "stream",
          "name": "stdout",
          "text": [
            "tf.Tensor([[-2 -4]], shape=(1, 2), dtype=int32)\n"
          ]
        }
      ]
    },
    {
      "cell_type": "markdown",
      "source": [
        "## Tensor Mathematical Operation"
      ],
      "metadata": {
        "id": "ekKRX6jcgzFt"
      }
    },
    {
      "cell_type": "code",
      "source": [
        "mat_x = tf.constant([[1,2,3],\n",
        "                     [2,4,6]])\n",
        "mat_y = tf.constant([[1,5,7],\n",
        "                     [2,6,8]])\n",
        "tf.add(mat_x,mat_y)"
      ],
      "metadata": {
        "id": "pD_baQLNg3e6",
        "outputId": "d6a2bcab-de02-4f37-f938-85c9b843a988",
        "colab": {
          "base_uri": "https://localhost:8080/"
        }
      },
      "execution_count": 24,
      "outputs": [
        {
          "output_type": "execute_result",
          "data": {
            "text/plain": [
              "<tf.Tensor: shape=(2, 3), dtype=int32, numpy=\n",
              "array([[ 2,  7, 10],\n",
              "       [ 4, 10, 14]], dtype=int32)>"
            ]
          },
          "metadata": {},
          "execution_count": 24
        }
      ]
    },
    {
      "cell_type": "code",
      "source": [
        "tf.subtract(mat_x,mat_y)"
      ],
      "metadata": {
        "id": "sByJo4xghRxd",
        "outputId": "723f4d61-cd6d-4ccb-bed2-8a8d622a9016",
        "colab": {
          "base_uri": "https://localhost:8080/"
        }
      },
      "execution_count": 27,
      "outputs": [
        {
          "output_type": "execute_result",
          "data": {
            "text/plain": [
              "<tf.Tensor: shape=(2, 3), dtype=int32, numpy=\n",
              "array([[ 0, -3, -4],\n",
              "       [ 0, -2, -2]], dtype=int32)>"
            ]
          },
          "metadata": {},
          "execution_count": 27
        }
      ]
    },
    {
      "cell_type": "code",
      "source": [
        "tf.multiply(mat_x,mat_y)\n"
      ],
      "metadata": {
        "id": "_ilNoJuPhel7",
        "outputId": "5645851f-5351-4547-d7f7-bfd1531d23b2",
        "colab": {
          "base_uri": "https://localhost:8080/"
        }
      },
      "execution_count": 28,
      "outputs": [
        {
          "output_type": "execute_result",
          "data": {
            "text/plain": [
              "<tf.Tensor: shape=(2, 3), dtype=int32, numpy=\n",
              "array([[ 1, 10, 21],\n",
              "       [ 4, 24, 48]], dtype=int32)>"
            ]
          },
          "metadata": {},
          "execution_count": 28
        }
      ]
    },
    {
      "cell_type": "code",
      "source": [
        "tf.pow(mat_x,mat_y)"
      ],
      "metadata": {
        "id": "q5oGU6PKht5i",
        "outputId": "c45d7092-2d45-448b-dcc9-9d75ddab621c",
        "colab": {
          "base_uri": "https://localhost:8080/"
        }
      },
      "execution_count": 29,
      "outputs": [
        {
          "output_type": "execute_result",
          "data": {
            "text/plain": [
              "<tf.Tensor: shape=(2, 3), dtype=int32, numpy=\n",
              "array([[      1,      32,    2187],\n",
              "       [      4,    4096, 1679616]], dtype=int32)>"
            ]
          },
          "metadata": {},
          "execution_count": 29
        }
      ]
    },
    {
      "cell_type": "code",
      "source": [
        "tf.divide(mat_x,mat_y)"
      ],
      "metadata": {
        "id": "RFuh1EfXh3qA",
        "outputId": "80ddcf0d-eabb-4118-92d8-4c8c8a80b974",
        "colab": {
          "base_uri": "https://localhost:8080/"
        }
      },
      "execution_count": 35,
      "outputs": [
        {
          "output_type": "execute_result",
          "data": {
            "text/plain": [
              "<tf.Tensor: shape=(2, 3), dtype=float64, numpy=\n",
              "array([[1.        , 0.4       , 0.42857143],\n",
              "       [1.        , 0.66666667, 0.75      ]])>"
            ]
          },
          "metadata": {},
          "execution_count": 35
        }
      ]
    },
    {
      "cell_type": "code",
      "source": [
        "tf.truediv(mat_x,mat_y)"
      ],
      "metadata": {
        "id": "LiyZ33-3h4yk",
        "outputId": "55e27d65-6ef8-47e9-e4ce-970fde90b008",
        "colab": {
          "base_uri": "https://localhost:8080/"
        }
      },
      "execution_count": 36,
      "outputs": [
        {
          "output_type": "execute_result",
          "data": {
            "text/plain": [
              "<tf.Tensor: shape=(2, 3), dtype=float64, numpy=\n",
              "array([[1.        , 0.4       , 0.42857143],\n",
              "       [1.        , 0.66666667, 0.75      ]])>"
            ]
          },
          "metadata": {},
          "execution_count": 36
        }
      ]
    },
    {
      "cell_type": "markdown",
      "source": [
        "**Gaussian Distribution**"
      ],
      "metadata": {
        "id": "L_QxQE-BkrpI"
      }
    },
    {
      "cell_type": "code",
      "source": [
        "# from math import pi\n",
        "# mean = 0\n",
        "# sigma = 1\n",
        "# x = tf.constant([[1,2]])\n",
        "# (tf.exp(tf.negative(tf.pow(x - mean, 2)/\n",
        "#                     (2 * tf.pow(sigma, 2) ))) *\n",
        "#  (1 / (sigma * tf.sqrt(2 * pi) )))"
      ],
      "metadata": {
        "id": "jezyMnh2k1PK"
      },
      "execution_count": null,
      "outputs": []
    },
    {
      "cell_type": "code",
      "source": [
        "x = tf.constant([[1.,2.]])\n",
        "neg_x = tf.negative(x)\n",
        "with tf.compat.v1.Session() as sess:\n",
        "  hello = tf.constant('Hello')\n",
        "  result = sess.run(hello)\n",
        "\n",
        "print(result)"
      ],
      "metadata": {
        "id": "M7AwREQNnhjz",
        "outputId": "0b604fe0-7409-44e7-a470-63c0f1d8e138",
        "colab": {
          "base_uri": "https://localhost:8080/"
        }
      },
      "execution_count": 52,
      "outputs": [
        {
          "output_type": "stream",
          "name": "stdout",
          "text": [
            "b'Hello'\n"
          ]
        }
      ]
    },
    {
      "cell_type": "code",
      "source": [
        "sess=tf.compat.v1.InteractiveSession()\n",
        "x = tf.constant([[1,3],[5,7]])\n",
        "result = x.eval()"
      ],
      "metadata": {
        "id": "ZCdCsUEApmPw",
        "outputId": "4d14257b-237a-4986-de28-b7e575873d2f",
        "colab": {
          "base_uri": "https://localhost:8080/",
          "height": 322
        }
      },
      "execution_count": 54,
      "outputs": [
        {
          "output_type": "error",
          "ename": "NotImplementedError",
          "evalue": "ignored",
          "traceback": [
            "\u001b[0;31m---------------------------------------------------------------------------\u001b[0m",
            "\u001b[0;31mNotImplementedError\u001b[0m                       Traceback (most recent call last)",
            "\u001b[0;32m<ipython-input-54-21eb5f297f04>\u001b[0m in \u001b[0;36m<module>\u001b[0;34m()\u001b[0m\n\u001b[1;32m      1\u001b[0m \u001b[0msess\u001b[0m\u001b[0;34m=\u001b[0m\u001b[0mtf\u001b[0m\u001b[0;34m.\u001b[0m\u001b[0mcompat\u001b[0m\u001b[0;34m.\u001b[0m\u001b[0mv1\u001b[0m\u001b[0;34m.\u001b[0m\u001b[0mInteractiveSession\u001b[0m\u001b[0;34m(\u001b[0m\u001b[0;34m)\u001b[0m\u001b[0;34m\u001b[0m\u001b[0;34m\u001b[0m\u001b[0m\n\u001b[1;32m      2\u001b[0m \u001b[0mx\u001b[0m \u001b[0;34m=\u001b[0m \u001b[0mtf\u001b[0m\u001b[0;34m.\u001b[0m\u001b[0mconstant\u001b[0m\u001b[0;34m(\u001b[0m\u001b[0;34m[\u001b[0m\u001b[0;34m[\u001b[0m\u001b[0;36m1\u001b[0m\u001b[0;34m,\u001b[0m\u001b[0;36m3\u001b[0m\u001b[0;34m]\u001b[0m\u001b[0;34m,\u001b[0m\u001b[0;34m[\u001b[0m\u001b[0;36m5\u001b[0m\u001b[0;34m,\u001b[0m\u001b[0;36m7\u001b[0m\u001b[0;34m]\u001b[0m\u001b[0;34m]\u001b[0m\u001b[0;34m)\u001b[0m\u001b[0;34m\u001b[0m\u001b[0;34m\u001b[0m\u001b[0m\n\u001b[0;32m----> 3\u001b[0;31m \u001b[0mresult\u001b[0m \u001b[0;34m=\u001b[0m \u001b[0mx\u001b[0m\u001b[0;34m.\u001b[0m\u001b[0meval\u001b[0m\u001b[0;34m(\u001b[0m\u001b[0;34m)\u001b[0m\u001b[0;34m\u001b[0m\u001b[0;34m\u001b[0m\u001b[0m\n\u001b[0m",
            "\u001b[0;32m/usr/local/lib/python3.7/dist-packages/tensorflow/python/framework/ops.py\u001b[0m in \u001b[0;36meval\u001b[0;34m(self, feed_dict, session)\u001b[0m\n\u001b[1;32m   1408\u001b[0m   \u001b[0;32mdef\u001b[0m \u001b[0meval\u001b[0m\u001b[0;34m(\u001b[0m\u001b[0mself\u001b[0m\u001b[0;34m,\u001b[0m \u001b[0mfeed_dict\u001b[0m\u001b[0;34m=\u001b[0m\u001b[0;32mNone\u001b[0m\u001b[0;34m,\u001b[0m \u001b[0msession\u001b[0m\u001b[0;34m=\u001b[0m\u001b[0;32mNone\u001b[0m\u001b[0;34m)\u001b[0m\u001b[0;34m:\u001b[0m\u001b[0;34m\u001b[0m\u001b[0;34m\u001b[0m\u001b[0m\n\u001b[1;32m   1409\u001b[0m     raise NotImplementedError(\n\u001b[0;32m-> 1410\u001b[0;31m         \u001b[0;34m\"eval is not supported when eager execution is enabled, \"\u001b[0m\u001b[0;34m\u001b[0m\u001b[0;34m\u001b[0m\u001b[0m\n\u001b[0m\u001b[1;32m   1411\u001b[0m         \"is .numpy() what you're looking for?\")\n\u001b[1;32m   1412\u001b[0m \u001b[0;34m\u001b[0m\u001b[0m\n",
            "\u001b[0;31mNotImplementedError\u001b[0m: eval is not supported when eager execution is enabled, is .numpy() what you're looking for?"
          ]
        }
      ]
    }
  ],
  "metadata": {
    "kernelspec": {
      "display_name": "Python 3.10.4 64-bit",
      "language": "python",
      "name": "python3"
    },
    "language_info": {
      "name": "python",
      "version": "3.10.4"
    },
    "orig_nbformat": 4,
    "vscode": {
      "interpreter": {
        "hash": "4f946df053fbf2b937619d3c5458e7af74262f9a954d8797ba0b27400bcafe06"
      }
    },
    "colab": {
      "name": "tf.ipynb",
      "provenance": [],
      "include_colab_link": true
    }
  },
  "nbformat": 4,
  "nbformat_minor": 0
}